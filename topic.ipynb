{
 "cells": [
  {
   "cell_type": "code",
   "execution_count": 1,
   "metadata": {},
   "outputs": [
    {
     "name": "stdout",
     "output_type": "stream",
     "text": [
      "Requirement already satisfied: gensim in /Users/tadatta/opt/anaconda3/lib/python3.8/site-packages (4.0.1)\n",
      "Requirement already satisfied: scipy>=0.18.1 in /Users/tadatta/opt/anaconda3/lib/python3.8/site-packages (from gensim) (1.5.2)\n",
      "Requirement already satisfied: smart-open>=1.8.1 in /Users/tadatta/opt/anaconda3/lib/python3.8/site-packages (from gensim) (3.0.0)\n",
      "Requirement already satisfied: numpy>=1.11.3 in /Users/tadatta/opt/anaconda3/lib/python3.8/site-packages (from gensim) (1.21.0)\n",
      "Requirement already satisfied: requests in /Users/tadatta/opt/anaconda3/lib/python3.8/site-packages (from smart-open>=1.8.1->gensim) (2.24.0)\n",
      "Requirement already satisfied: chardet<4,>=3.0.2 in /Users/tadatta/opt/anaconda3/lib/python3.8/site-packages (from requests->smart-open>=1.8.1->gensim) (3.0.4)\n",
      "Requirement already satisfied: urllib3!=1.25.0,!=1.25.1,<1.26,>=1.21.1 in /Users/tadatta/opt/anaconda3/lib/python3.8/site-packages (from requests->smart-open>=1.8.1->gensim) (1.25.11)\n",
      "Requirement already satisfied: certifi>=2017.4.17 in /Users/tadatta/opt/anaconda3/lib/python3.8/site-packages (from requests->smart-open>=1.8.1->gensim) (2020.6.20)\n",
      "Requirement already satisfied: idna<3,>=2.5 in /Users/tadatta/opt/anaconda3/lib/python3.8/site-packages (from requests->smart-open>=1.8.1->gensim) (2.10)\n",
      "Note: you may need to restart the kernel to use updated packages.\n"
     ]
    }
   ],
   "source": [
    "pip install gensim"
   ]
  },
  {
   "cell_type": "code",
   "execution_count": 2,
   "metadata": {},
   "outputs": [
    {
     "name": "stdout",
     "output_type": "stream",
     "text": [
      "Requirement already satisfied: pyLDavis in /Users/tadatta/opt/anaconda3/lib/python3.8/site-packages (3.3.1)\n",
      "Requirement already satisfied: numexpr in /Users/tadatta/opt/anaconda3/lib/python3.8/site-packages (from pyLDavis) (2.7.1)\n",
      "Requirement already satisfied: gensim in /Users/tadatta/opt/anaconda3/lib/python3.8/site-packages (from pyLDavis) (4.0.1)\n",
      "Requirement already satisfied: jinja2 in /Users/tadatta/opt/anaconda3/lib/python3.8/site-packages (from pyLDavis) (2.11.2)\n",
      "Requirement already satisfied: setuptools in /Users/tadatta/opt/anaconda3/lib/python3.8/site-packages (from pyLDavis) (57.0.0)\n",
      "Requirement already satisfied: numpy>=1.20.0 in /Users/tadatta/opt/anaconda3/lib/python3.8/site-packages (from pyLDavis) (1.21.0)\n",
      "Requirement already satisfied: joblib in /Users/tadatta/opt/anaconda3/lib/python3.8/site-packages (from pyLDavis) (1.0.1)\n",
      "Requirement already satisfied: sklearn in /Users/tadatta/opt/anaconda3/lib/python3.8/site-packages (from pyLDavis) (0.0)\n",
      "Requirement already satisfied: scikit-learn in /Users/tadatta/opt/anaconda3/lib/python3.8/site-packages (from pyLDavis) (0.23.2)\n",
      "Requirement already satisfied: future in /Users/tadatta/opt/anaconda3/lib/python3.8/site-packages (from pyLDavis) (0.18.2)\n",
      "Requirement already satisfied: funcy in /Users/tadatta/opt/anaconda3/lib/python3.8/site-packages (from pyLDavis) (1.16)\n",
      "Requirement already satisfied: pandas>=1.2.0 in /Users/tadatta/opt/anaconda3/lib/python3.8/site-packages (from pyLDavis) (1.2.5)\n",
      "Requirement already satisfied: scipy in /Users/tadatta/opt/anaconda3/lib/python3.8/site-packages (from pyLDavis) (1.5.2)\n",
      "Requirement already satisfied: pytz>=2017.3 in /Users/tadatta/opt/anaconda3/lib/python3.8/site-packages (from pandas>=1.2.0->pyLDavis) (2020.1)\n",
      "Requirement already satisfied: python-dateutil>=2.7.3 in /Users/tadatta/opt/anaconda3/lib/python3.8/site-packages (from pandas>=1.2.0->pyLDavis) (2.8.1)\n",
      "Requirement already satisfied: six>=1.5 in /Users/tadatta/opt/anaconda3/lib/python3.8/site-packages (from python-dateutil>=2.7.3->pandas>=1.2.0->pyLDavis) (1.15.0)\n",
      "Requirement already satisfied: smart-open>=1.8.1 in /Users/tadatta/opt/anaconda3/lib/python3.8/site-packages (from gensim->pyLDavis) (3.0.0)\n",
      "Requirement already satisfied: requests in /Users/tadatta/opt/anaconda3/lib/python3.8/site-packages (from smart-open>=1.8.1->gensim->pyLDavis) (2.24.0)\n",
      "Requirement already satisfied: MarkupSafe>=0.23 in /Users/tadatta/opt/anaconda3/lib/python3.8/site-packages (from jinja2->pyLDavis) (1.1.1)\n",
      "Requirement already satisfied: idna<3,>=2.5 in /Users/tadatta/opt/anaconda3/lib/python3.8/site-packages (from requests->smart-open>=1.8.1->gensim->pyLDavis) (2.10)\n",
      "Requirement already satisfied: urllib3!=1.25.0,!=1.25.1,<1.26,>=1.21.1 in /Users/tadatta/opt/anaconda3/lib/python3.8/site-packages (from requests->smart-open>=1.8.1->gensim->pyLDavis) (1.25.11)\n",
      "Requirement already satisfied: certifi>=2017.4.17 in /Users/tadatta/opt/anaconda3/lib/python3.8/site-packages (from requests->smart-open>=1.8.1->gensim->pyLDavis) (2020.6.20)\n",
      "Requirement already satisfied: chardet<4,>=3.0.2 in /Users/tadatta/opt/anaconda3/lib/python3.8/site-packages (from requests->smart-open>=1.8.1->gensim->pyLDavis) (3.0.4)\n",
      "Requirement already satisfied: threadpoolctl>=2.0.0 in /Users/tadatta/opt/anaconda3/lib/python3.8/site-packages (from scikit-learn->pyLDavis) (2.1.0)\n",
      "Note: you may need to restart the kernel to use updated packages.\n"
     ]
    }
   ],
   "source": [
    "pip install pyLDavis"
   ]
  },
  {
   "cell_type": "code",
   "execution_count": 3,
   "metadata": {},
   "outputs": [
    {
     "name": "stdout",
     "output_type": "stream",
     "text": [
      "Requirement already satisfied: python-Levenshtein in /Users/tadatta/opt/anaconda3/lib/python3.8/site-packages (0.12.2)\n",
      "Requirement already satisfied: setuptools in /Users/tadatta/opt/anaconda3/lib/python3.8/site-packages (from python-Levenshtein) (57.0.0)\n",
      "Note: you may need to restart the kernel to use updated packages.\n"
     ]
    }
   ],
   "source": [
    "pip install python-Levenshtein"
   ]
  },
  {
   "cell_type": "code",
   "execution_count": 3,
   "metadata": {},
   "outputs": [],
   "source": [
    "import re\n",
    "import numpy as np\n",
    "import pandas as pd\n",
    "from pprint import pprint\n",
    "\n",
    "# Gensim\n",
    "import gensim\n",
    "import gensim.corpora as corpora\n",
    "from gensim.utils import simple_preprocess\n",
    "from gensim.models import CoherenceModel\n",
    "\n",
    "# spacy for lemmatization\n",
    "import spacy\n",
    "\n",
    "# Enable logging for gensim - optional\n",
    "import logging\n",
    "logging.basicConfig(format='%(asctime)s : %(levelname)s : %(message)s', level=logging.ERROR)\n",
    "\n",
    "import warnings\n",
    "warnings.filterwarnings(\"ignore\",category=DeprecationWarning)"
   ]
  },
  {
   "cell_type": "code",
   "execution_count": 4,
   "metadata": {},
   "outputs": [],
   "source": [
    "nlp = spacy.load(\"en_core_web_sm\")"
   ]
  },
  {
   "cell_type": "code",
   "execution_count": 5,
   "metadata": {},
   "outputs": [
    {
     "name": "stderr",
     "output_type": "stream",
     "text": [
      "/Users/tadatta/opt/anaconda3/lib/python3.8/site-packages/sklearn/linear_model/_least_angle.py:34: DeprecationWarning: `np.float` is a deprecated alias for the builtin `float`. To silence this warning, use `float` by itself. Doing this will not modify any behavior and is safe. If you specifically wanted the numpy scalar type, use `np.float64` here.\n",
      "Deprecated in NumPy 1.20; for more details and guidance: https://numpy.org/devdocs/release/1.20.0-notes.html#deprecations\n",
      "  method='lar', copy_X=True, eps=np.finfo(np.float).eps,\n",
      "/Users/tadatta/opt/anaconda3/lib/python3.8/site-packages/sklearn/linear_model/_least_angle.py:164: DeprecationWarning: `np.float` is a deprecated alias for the builtin `float`. To silence this warning, use `float` by itself. Doing this will not modify any behavior and is safe. If you specifically wanted the numpy scalar type, use `np.float64` here.\n",
      "Deprecated in NumPy 1.20; for more details and guidance: https://numpy.org/devdocs/release/1.20.0-notes.html#deprecations\n",
      "  method='lar', copy_X=True, eps=np.finfo(np.float).eps,\n",
      "/Users/tadatta/opt/anaconda3/lib/python3.8/site-packages/sklearn/linear_model/_least_angle.py:281: DeprecationWarning: `np.float` is a deprecated alias for the builtin `float`. To silence this warning, use `float` by itself. Doing this will not modify any behavior and is safe. If you specifically wanted the numpy scalar type, use `np.float64` here.\n",
      "Deprecated in NumPy 1.20; for more details and guidance: https://numpy.org/devdocs/release/1.20.0-notes.html#deprecations\n",
      "  eps=np.finfo(np.float).eps, copy_Gram=True, verbose=0,\n",
      "/Users/tadatta/opt/anaconda3/lib/python3.8/site-packages/sklearn/linear_model/_least_angle.py:865: DeprecationWarning: `np.float` is a deprecated alias for the builtin `float`. To silence this warning, use `float` by itself. Doing this will not modify any behavior and is safe. If you specifically wanted the numpy scalar type, use `np.float64` here.\n",
      "Deprecated in NumPy 1.20; for more details and guidance: https://numpy.org/devdocs/release/1.20.0-notes.html#deprecations\n",
      "  eps=np.finfo(np.float).eps, copy_X=True, fit_path=True,\n",
      "/Users/tadatta/opt/anaconda3/lib/python3.8/site-packages/sklearn/linear_model/_least_angle.py:1121: DeprecationWarning: `np.float` is a deprecated alias for the builtin `float`. To silence this warning, use `float` by itself. Doing this will not modify any behavior and is safe. If you specifically wanted the numpy scalar type, use `np.float64` here.\n",
      "Deprecated in NumPy 1.20; for more details and guidance: https://numpy.org/devdocs/release/1.20.0-notes.html#deprecations\n",
      "  eps=np.finfo(np.float).eps, copy_X=True, fit_path=True,\n",
      "/Users/tadatta/opt/anaconda3/lib/python3.8/site-packages/sklearn/linear_model/_least_angle.py:1149: DeprecationWarning: `np.float` is a deprecated alias for the builtin `float`. To silence this warning, use `float` by itself. Doing this will not modify any behavior and is safe. If you specifically wanted the numpy scalar type, use `np.float64` here.\n",
      "Deprecated in NumPy 1.20; for more details and guidance: https://numpy.org/devdocs/release/1.20.0-notes.html#deprecations\n",
      "  eps=np.finfo(np.float).eps, positive=False):\n",
      "/Users/tadatta/opt/anaconda3/lib/python3.8/site-packages/sklearn/linear_model/_least_angle.py:1379: DeprecationWarning: `np.float` is a deprecated alias for the builtin `float`. To silence this warning, use `float` by itself. Doing this will not modify any behavior and is safe. If you specifically wanted the numpy scalar type, use `np.float64` here.\n",
      "Deprecated in NumPy 1.20; for more details and guidance: https://numpy.org/devdocs/release/1.20.0-notes.html#deprecations\n",
      "  max_n_alphas=1000, n_jobs=None, eps=np.finfo(np.float).eps,\n",
      "/Users/tadatta/opt/anaconda3/lib/python3.8/site-packages/sklearn/linear_model/_least_angle.py:1621: DeprecationWarning: `np.float` is a deprecated alias for the builtin `float`. To silence this warning, use `float` by itself. Doing this will not modify any behavior and is safe. If you specifically wanted the numpy scalar type, use `np.float64` here.\n",
      "Deprecated in NumPy 1.20; for more details and guidance: https://numpy.org/devdocs/release/1.20.0-notes.html#deprecations\n",
      "  max_n_alphas=1000, n_jobs=None, eps=np.finfo(np.float).eps,\n",
      "/Users/tadatta/opt/anaconda3/lib/python3.8/site-packages/sklearn/linear_model/_least_angle.py:1755: DeprecationWarning: `np.float` is a deprecated alias for the builtin `float`. To silence this warning, use `float` by itself. Doing this will not modify any behavior and is safe. If you specifically wanted the numpy scalar type, use `np.float64` here.\n",
      "Deprecated in NumPy 1.20; for more details and guidance: https://numpy.org/devdocs/release/1.20.0-notes.html#deprecations\n",
      "  eps=np.finfo(np.float).eps, copy_X=True, positive=False):\n",
      "/Users/tadatta/opt/anaconda3/lib/python3.8/site-packages/sklearn/decomposition/_lda.py:28: DeprecationWarning: `np.float` is a deprecated alias for the builtin `float`. To silence this warning, use `float` by itself. Doing this will not modify any behavior and is safe. If you specifically wanted the numpy scalar type, use `np.float64` here.\n",
      "Deprecated in NumPy 1.20; for more details and guidance: https://numpy.org/devdocs/release/1.20.0-notes.html#deprecations\n",
      "  EPS = np.finfo(np.float).eps\n"
     ]
    }
   ],
   "source": [
    "# Plotting tools\n",
    "import pyLDAvis\n",
    "import pyLDAvis.gensim_models as gensimvis\n",
    "pyLDAvis.enable_notebook()\n",
    "\n",
    "# feed the LDA model into the pyLDAvis instance\n",
    "#lda_viz = gensimvis.prepare(ldamodel, corpus, dictionary)import matplotlib.pyplot as plt\n",
    "%matplotlib inline"
   ]
  },
  {
   "cell_type": "code",
   "execution_count": 6,
   "metadata": {},
   "outputs": [
    {
     "name": "stderr",
     "output_type": "stream",
     "text": [
      "/Users/tadatta/opt/anaconda3/lib/python3.8/site-packages/ipykernel/ipkernel.py:287: DeprecationWarning: `should_run_async` will not call `transform_cell` automatically in the future. Please pass the result to `transformed_cell` argument and any exception that happen during thetransform in `preprocessing_exc_tuple` in IPython 7.17 and above.\n",
      "  and should_run_async(code)\n",
      "/Users/tadatta/opt/anaconda3/lib/python3.8/site-packages/sklearn/feature_extraction/image.py:172: DeprecationWarning: `np.int` is a deprecated alias for the builtin `int`. To silence this warning, use `int` by itself. Doing this will not modify any behavior and is safe. When replacing `np.int`, you may wish to use e.g. `np.int64` or `np.int32` to specify the precision. If you wish to review your current use, check the release note link for additional information.\n",
      "Deprecated in NumPy 1.20; for more details and guidance: https://numpy.org/devdocs/release/1.20.0-notes.html#deprecations\n",
      "  dtype=np.int):\n",
      "[nltk_data] Downloading package stopwords to\n",
      "[nltk_data]     /Users/tadatta/nltk_data...\n",
      "[nltk_data]   Package stopwords is already up-to-date!\n"
     ]
    },
    {
     "data": {
      "text/plain": [
       "True"
      ]
     },
     "execution_count": 6,
     "metadata": {},
     "output_type": "execute_result"
    }
   ],
   "source": [
    "import nltk; nltk.download('stopwords')"
   ]
  },
  {
   "cell_type": "code",
   "execution_count": 7,
   "metadata": {},
   "outputs": [
    {
     "name": "stderr",
     "output_type": "stream",
     "text": [
      "/Users/tadatta/opt/anaconda3/lib/python3.8/site-packages/ipykernel/ipkernel.py:287: DeprecationWarning: `should_run_async` will not call `transform_cell` automatically in the future. Please pass the result to `transformed_cell` argument and any exception that happen during thetransform in `preprocessing_exc_tuple` in IPython 7.17 and above.\n",
      "  and should_run_async(code)\n"
     ]
    }
   ],
   "source": [
    "from nltk.corpus import stopwords"
   ]
  },
  {
   "cell_type": "code",
   "execution_count": 8,
   "metadata": {},
   "outputs": [
    {
     "name": "stderr",
     "output_type": "stream",
     "text": [
      "/Users/tadatta/opt/anaconda3/lib/python3.8/site-packages/ipykernel/ipkernel.py:287: DeprecationWarning: `should_run_async` will not call `transform_cell` automatically in the future. Please pass the result to `transformed_cell` argument and any exception that happen during thetransform in `preprocessing_exc_tuple` in IPython 7.17 and above.\n",
      "  and should_run_async(code)\n",
      "/Users/tadatta/opt/anaconda3/lib/python3.8/site-packages/openpyxl/compat/numbers.py:41: DeprecationWarning: `np.float` is a deprecated alias for the builtin `float`. To silence this warning, use `float` by itself. Doing this will not modify any behavior and is safe. If you specifically wanted the numpy scalar type, use `np.float64` here.\n",
      "Deprecated in NumPy 1.20; for more details and guidance: https://numpy.org/devdocs/release/1.20.0-notes.html#deprecations\n",
      "  numpy.float,\n"
     ]
    }
   ],
   "source": [
    "documents = pd.read_excel(\"CDP.xlsx\")"
   ]
  },
  {
   "cell_type": "code",
   "execution_count": 9,
   "metadata": {},
   "outputs": [
    {
     "name": "stderr",
     "output_type": "stream",
     "text": [
      "/Users/tadatta/opt/anaconda3/lib/python3.8/site-packages/ipykernel/ipkernel.py:287: DeprecationWarning: `should_run_async` will not call `transform_cell` automatically in the future. Please pass the result to `transformed_cell` argument and any exception that happen during thetransform in `preprocessing_exc_tuple` in IPython 7.17 and above.\n",
      "  and should_run_async(code)\n"
     ]
    }
   ],
   "source": [
    "df = [\"Agree with Rajan on a lot of points - especially the vaccine unpreparedness issues.However the notion that our current form of governance has eroded foreign investor confidence is untrue and he knows it well enough. It's literally at an all time high. Another point that seems politically driven - If you are criticising the economic recovery of phase 1 based on the fact that it is all due to Govt exp and not a consumption rise here's 3 points for you: 1. Same trend globally. Every govt is spending to revive the economy. Weren't you advocating a no holds barred currency printing last year yourself? There's no way pvt consumption - that was falling in India even pre covid btw - could have revived last year. 2. This is natural during any economic jolt. What  happened in 2009-2011? Are you claiming Congress govt revived pvt consumption when we saw those double digit growth figures? We all know the subsequent inflationary trends that lasted till 2013. It was all govt spending. 3. Growth is a factor of C+I+G+NX If we open up, we risk more dead people and eventually C will fall either way. Investment is actually growing. FDI is nearly at all time highs. You cannot expect exports to grow exponentially given the global problem. That leaves govt expenditure\"]"
   ]
  },
  {
   "cell_type": "code",
   "execution_count": 10,
   "metadata": {},
   "outputs": [
    {
     "name": "stderr",
     "output_type": "stream",
     "text": [
      "/Users/tadatta/opt/anaconda3/lib/python3.8/site-packages/ipykernel/ipkernel.py:287: DeprecationWarning: `should_run_async` will not call `transform_cell` automatically in the future. Please pass the result to `transformed_cell` argument and any exception that happen during thetransform in `preprocessing_exc_tuple` in IPython 7.17 and above.\n",
      "  and should_run_async(code)\n"
     ]
    }
   ],
   "source": [
    "documents = documents[[\"Comment\", \"Score\", \"Driver\"]]"
   ]
  },
  {
   "cell_type": "code",
   "execution_count": 11,
   "metadata": {},
   "outputs": [
    {
     "name": "stderr",
     "output_type": "stream",
     "text": [
      "/Users/tadatta/opt/anaconda3/lib/python3.8/site-packages/ipykernel/ipkernel.py:287: DeprecationWarning: `should_run_async` will not call `transform_cell` automatically in the future. Please pass the result to `transformed_cell` argument and any exception that happen during thetransform in `preprocessing_exc_tuple` in IPython 7.17 and above.\n",
      "  and should_run_async(code)\n"
     ]
    },
    {
     "data": {
      "text/html": [
       "<div>\n",
       "<style scoped>\n",
       "    .dataframe tbody tr th:only-of-type {\n",
       "        vertical-align: middle;\n",
       "    }\n",
       "\n",
       "    .dataframe tbody tr th {\n",
       "        vertical-align: top;\n",
       "    }\n",
       "\n",
       "    .dataframe thead th {\n",
       "        text-align: right;\n",
       "    }\n",
       "</style>\n",
       "<table border=\"1\" class=\"dataframe\">\n",
       "  <thead>\n",
       "    <tr style=\"text-align: right;\">\n",
       "      <th></th>\n",
       "      <th>Comment</th>\n",
       "      <th>Score</th>\n",
       "      <th>Driver</th>\n",
       "    </tr>\n",
       "  </thead>\n",
       "  <tbody>\n",
       "    <tr>\n",
       "      <th>0</th>\n",
       "      <td>Yes, I am happy till the time it doesn't cost ...</td>\n",
       "      <td>8.0</td>\n",
       "      <td>Diversity and inclusion</td>\n",
       "    </tr>\n",
       "    <tr>\n",
       "      <th>1</th>\n",
       "      <td>Highly satisfied as I did not feel gender part...</td>\n",
       "      <td>0.0</td>\n",
       "      <td>Diversity and inclusion</td>\n",
       "    </tr>\n",
       "    <tr>\n",
       "      <th>2</th>\n",
       "      <td>I did not found any partiality due to the back...</td>\n",
       "      <td>10.0</td>\n",
       "      <td>Non-discrimination</td>\n",
       "    </tr>\n",
       "    <tr>\n",
       "      <th>3</th>\n",
       "      <td>Because every day I am surrounded by passionat...</td>\n",
       "      <td>10.0</td>\n",
       "      <td>Inclusiveness</td>\n",
       "    </tr>\n",
       "    <tr>\n",
       "      <th>4</th>\n",
       "      <td>Almost all of my colleagues rewarded and promo...</td>\n",
       "      <td>1.0</td>\n",
       "      <td>Inclusiveness</td>\n",
       "    </tr>\n",
       "    <tr>\n",
       "      <th>...</th>\n",
       "      <td>...</td>\n",
       "      <td>...</td>\n",
       "      <td>...</td>\n",
       "    </tr>\n",
       "    <tr>\n",
       "      <th>241</th>\n",
       "      <td>not sure</td>\n",
       "      <td>6.0</td>\n",
       "      <td>Engagement</td>\n",
       "    </tr>\n",
       "    <tr>\n",
       "      <th>242</th>\n",
       "      <td>not sure</td>\n",
       "      <td>6.0</td>\n",
       "      <td>Organizational fit</td>\n",
       "    </tr>\n",
       "    <tr>\n",
       "      <th>243</th>\n",
       "      <td>yes</td>\n",
       "      <td>8.0</td>\n",
       "      <td>Autonomy</td>\n",
       "    </tr>\n",
       "    <tr>\n",
       "      <th>244</th>\n",
       "      <td>Yes</td>\n",
       "      <td>8.0</td>\n",
       "      <td>z. COVID-19</td>\n",
       "    </tr>\n",
       "    <tr>\n",
       "      <th>245</th>\n",
       "      <td>ha</td>\n",
       "      <td>NaN</td>\n",
       "      <td>NaN</td>\n",
       "    </tr>\n",
       "  </tbody>\n",
       "</table>\n",
       "<p>246 rows × 3 columns</p>\n",
       "</div>"
      ],
      "text/plain": [
       "                                               Comment  Score  \\\n",
       "0    Yes, I am happy till the time it doesn't cost ...    8.0   \n",
       "1    Highly satisfied as I did not feel gender part...    0.0   \n",
       "2    I did not found any partiality due to the back...   10.0   \n",
       "3    Because every day I am surrounded by passionat...   10.0   \n",
       "4    Almost all of my colleagues rewarded and promo...    1.0   \n",
       "..                                                 ...    ...   \n",
       "241                                           not sure    6.0   \n",
       "242                                           not sure    6.0   \n",
       "243                                                yes    8.0   \n",
       "244                                                Yes    8.0   \n",
       "245                                                 ha    NaN   \n",
       "\n",
       "                      Driver  \n",
       "0    Diversity and inclusion  \n",
       "1    Diversity and inclusion  \n",
       "2         Non-discrimination  \n",
       "3              Inclusiveness  \n",
       "4              Inclusiveness  \n",
       "..                       ...  \n",
       "241               Engagement  \n",
       "242       Organizational fit  \n",
       "243                 Autonomy  \n",
       "244              z. COVID-19  \n",
       "245                      NaN  \n",
       "\n",
       "[246 rows x 3 columns]"
      ]
     },
     "execution_count": 11,
     "metadata": {},
     "output_type": "execute_result"
    }
   ],
   "source": [
    "documents"
   ]
  },
  {
   "cell_type": "code",
   "execution_count": 12,
   "metadata": {},
   "outputs": [
    {
     "name": "stderr",
     "output_type": "stream",
     "text": [
      "/Users/tadatta/opt/anaconda3/lib/python3.8/site-packages/ipykernel/ipkernel.py:287: DeprecationWarning: `should_run_async` will not call `transform_cell` automatically in the future. Please pass the result to `transformed_cell` argument and any exception that happen during thetransform in `preprocessing_exc_tuple` in IPython 7.17 and above.\n",
      "  and should_run_async(code)\n"
     ]
    }
   ],
   "source": [
    "documents = documents.dropna(axis=0)"
   ]
  },
  {
   "cell_type": "code",
   "execution_count": 13,
   "metadata": {},
   "outputs": [
    {
     "name": "stderr",
     "output_type": "stream",
     "text": [
      "/Users/tadatta/opt/anaconda3/lib/python3.8/site-packages/ipykernel/ipkernel.py:287: DeprecationWarning: `should_run_async` will not call `transform_cell` automatically in the future. Please pass the result to `transformed_cell` argument and any exception that happen during thetransform in `preprocessing_exc_tuple` in IPython 7.17 and above.\n",
      "  and should_run_async(code)\n"
     ]
    },
    {
     "data": {
      "text/plain": [
       "(229, 3)"
      ]
     },
     "execution_count": 13,
     "metadata": {},
     "output_type": "execute_result"
    }
   ],
   "source": [
    "documents.shape"
   ]
  },
  {
   "cell_type": "code",
   "execution_count": 14,
   "metadata": {},
   "outputs": [
    {
     "name": "stderr",
     "output_type": "stream",
     "text": [
      "/Users/tadatta/opt/anaconda3/lib/python3.8/site-packages/ipykernel/ipkernel.py:287: DeprecationWarning: `should_run_async` will not call `transform_cell` automatically in the future. Please pass the result to `transformed_cell` argument and any exception that happen during thetransform in `preprocessing_exc_tuple` in IPython 7.17 and above.\n",
      "  and should_run_async(code)\n"
     ]
    },
    {
     "data": {
      "text/html": [
       "<div>\n",
       "<style scoped>\n",
       "    .dataframe tbody tr th:only-of-type {\n",
       "        vertical-align: middle;\n",
       "    }\n",
       "\n",
       "    .dataframe tbody tr th {\n",
       "        vertical-align: top;\n",
       "    }\n",
       "\n",
       "    .dataframe thead th {\n",
       "        text-align: right;\n",
       "    }\n",
       "</style>\n",
       "<table border=\"1\" class=\"dataframe\">\n",
       "  <thead>\n",
       "    <tr style=\"text-align: right;\">\n",
       "      <th></th>\n",
       "      <th>Comment</th>\n",
       "      <th>Score</th>\n",
       "      <th>Driver</th>\n",
       "    </tr>\n",
       "  </thead>\n",
       "  <tbody>\n",
       "    <tr>\n",
       "      <th>0</th>\n",
       "      <td>Yes, I am happy till the time it doesn't cost ...</td>\n",
       "      <td>8.0</td>\n",
       "      <td>Diversity and inclusion</td>\n",
       "    </tr>\n",
       "    <tr>\n",
       "      <th>1</th>\n",
       "      <td>Highly satisfied as I did not feel gender part...</td>\n",
       "      <td>0.0</td>\n",
       "      <td>Diversity and inclusion</td>\n",
       "    </tr>\n",
       "    <tr>\n",
       "      <th>2</th>\n",
       "      <td>I did not found any partiality due to the back...</td>\n",
       "      <td>10.0</td>\n",
       "      <td>Non-discrimination</td>\n",
       "    </tr>\n",
       "    <tr>\n",
       "      <th>3</th>\n",
       "      <td>Because every day I am surrounded by passionat...</td>\n",
       "      <td>10.0</td>\n",
       "      <td>Inclusiveness</td>\n",
       "    </tr>\n",
       "    <tr>\n",
       "      <th>4</th>\n",
       "      <td>Almost all of my colleagues rewarded and promo...</td>\n",
       "      <td>1.0</td>\n",
       "      <td>Inclusiveness</td>\n",
       "    </tr>\n",
       "  </tbody>\n",
       "</table>\n",
       "</div>"
      ],
      "text/plain": [
       "                                             Comment  Score  \\\n",
       "0  Yes, I am happy till the time it doesn't cost ...    8.0   \n",
       "1  Highly satisfied as I did not feel gender part...    0.0   \n",
       "2  I did not found any partiality due to the back...   10.0   \n",
       "3  Because every day I am surrounded by passionat...   10.0   \n",
       "4  Almost all of my colleagues rewarded and promo...    1.0   \n",
       "\n",
       "                    Driver  \n",
       "0  Diversity and inclusion  \n",
       "1  Diversity and inclusion  \n",
       "2       Non-discrimination  \n",
       "3            Inclusiveness  \n",
       "4            Inclusiveness  "
      ]
     },
     "execution_count": 14,
     "metadata": {},
     "output_type": "execute_result"
    }
   ],
   "source": [
    "documents.head()"
   ]
  },
  {
   "cell_type": "code",
   "execution_count": 15,
   "metadata": {},
   "outputs": [
    {
     "name": "stderr",
     "output_type": "stream",
     "text": [
      "/Users/tadatta/opt/anaconda3/lib/python3.8/site-packages/ipykernel/ipkernel.py:287: DeprecationWarning: `should_run_async` will not call `transform_cell` automatically in the future. Please pass the result to `transformed_cell` argument and any exception that happen during thetransform in `preprocessing_exc_tuple` in IPython 7.17 and above.\n",
      "  and should_run_async(code)\n"
     ]
    }
   ],
   "source": [
    "#stop_words\n",
    "# Convert to list\n",
    "#data = df.content.values.tolist()\n",
    "# Remove Emails\n",
    "#data = [re.sub('\\S*@\\S*\\s?', '', sent) for sent in data]\n",
    "# Remove new line characters\n",
    "#data = [re.sub('\\s+', ' ', sent) for sent in data]\n",
    "# Remove distracting single quotes\n",
    "#data = [re.sub(\"\\'\", \"\", sent) for sent in data]\n",
    "#pprint(data[:1])"
   ]
  },
  {
   "cell_type": "code",
   "execution_count": 16,
   "metadata": {},
   "outputs": [
    {
     "name": "stderr",
     "output_type": "stream",
     "text": [
      "/Users/tadatta/opt/anaconda3/lib/python3.8/site-packages/ipykernel/ipkernel.py:287: DeprecationWarning: `should_run_async` will not call `transform_cell` automatically in the future. Please pass the result to `transformed_cell` argument and any exception that happen during thetransform in `preprocessing_exc_tuple` in IPython 7.17 and above.\n",
      "  and should_run_async(code)\n"
     ]
    },
    {
     "data": {
      "text/html": [
       "<div>\n",
       "<style scoped>\n",
       "    .dataframe tbody tr th:only-of-type {\n",
       "        vertical-align: middle;\n",
       "    }\n",
       "\n",
       "    .dataframe tbody tr th {\n",
       "        vertical-align: top;\n",
       "    }\n",
       "\n",
       "    .dataframe thead th {\n",
       "        text-align: right;\n",
       "    }\n",
       "</style>\n",
       "<table border=\"1\" class=\"dataframe\">\n",
       "  <thead>\n",
       "    <tr style=\"text-align: right;\">\n",
       "      <th></th>\n",
       "      <th>Comment</th>\n",
       "      <th>Score</th>\n",
       "      <th>Driver</th>\n",
       "    </tr>\n",
       "  </thead>\n",
       "  <tbody>\n",
       "    <tr>\n",
       "      <th>0</th>\n",
       "      <td>Yes, I am happy till the time it doesn't cost ...</td>\n",
       "      <td>8.0</td>\n",
       "      <td>Diversity and inclusion</td>\n",
       "    </tr>\n",
       "    <tr>\n",
       "      <th>1</th>\n",
       "      <td>Highly satisfied as I did not feel gender part...</td>\n",
       "      <td>0.0</td>\n",
       "      <td>Diversity and inclusion</td>\n",
       "    </tr>\n",
       "    <tr>\n",
       "      <th>2</th>\n",
       "      <td>I did not found any partiality due to the back...</td>\n",
       "      <td>10.0</td>\n",
       "      <td>Non-discrimination</td>\n",
       "    </tr>\n",
       "    <tr>\n",
       "      <th>3</th>\n",
       "      <td>Because every day I am surrounded by passionat...</td>\n",
       "      <td>10.0</td>\n",
       "      <td>Inclusiveness</td>\n",
       "    </tr>\n",
       "    <tr>\n",
       "      <th>4</th>\n",
       "      <td>Almost all of my colleagues rewarded and promo...</td>\n",
       "      <td>1.0</td>\n",
       "      <td>Inclusiveness</td>\n",
       "    </tr>\n",
       "  </tbody>\n",
       "</table>\n",
       "</div>"
      ],
      "text/plain": [
       "                                             Comment  Score  \\\n",
       "0  Yes, I am happy till the time it doesn't cost ...    8.0   \n",
       "1  Highly satisfied as I did not feel gender part...    0.0   \n",
       "2  I did not found any partiality due to the back...   10.0   \n",
       "3  Because every day I am surrounded by passionat...   10.0   \n",
       "4  Almost all of my colleagues rewarded and promo...    1.0   \n",
       "\n",
       "                    Driver  \n",
       "0  Diversity and inclusion  \n",
       "1  Diversity and inclusion  \n",
       "2       Non-discrimination  \n",
       "3            Inclusiveness  \n",
       "4            Inclusiveness  "
      ]
     },
     "execution_count": 16,
     "metadata": {},
     "output_type": "execute_result"
    }
   ],
   "source": [
    "documents.head()"
   ]
  },
  {
   "cell_type": "code",
   "execution_count": 18,
   "metadata": {},
   "outputs": [
    {
     "name": "stderr",
     "output_type": "stream",
     "text": [
      "/Users/tadatta/opt/anaconda3/lib/python3.8/site-packages/ipykernel/ipkernel.py:287: DeprecationWarning: `should_run_async` will not call `transform_cell` automatically in the future. Please pass the result to `transformed_cell` argument and any exception that happen during thetransform in `preprocessing_exc_tuple` in IPython 7.17 and above.\n",
      "  and should_run_async(code)\n"
     ]
    },
    {
     "data": {
      "text/plain": [
       "0      Yes, I am happy till the time it doesn't cost ...\n",
       "1      Highly satisfied as I did not feel gender part...\n",
       "2      I did not found any partiality due to the back...\n",
       "3      Because every day I am surrounded by passionat...\n",
       "4      Almost all of my colleagues rewarded and promo...\n",
       "                             ...                        \n",
       "240                                            Yes doing\n",
       "241                                             not sure\n",
       "242                                             not sure\n",
       "243                                                  yes\n",
       "244                                                  Yes\n",
       "Name: Comment, Length: 229, dtype: object"
      ]
     },
     "execution_count": 18,
     "metadata": {},
     "output_type": "execute_result"
    }
   ],
   "source": [
    "docs = documents[\"Comment\"]\n",
    "docs"
   ]
  },
  {
   "cell_type": "code",
   "execution_count": 19,
   "metadata": {},
   "outputs": [
    {
     "name": "stderr",
     "output_type": "stream",
     "text": [
      "/Users/tadatta/opt/anaconda3/lib/python3.8/site-packages/ipykernel/ipkernel.py:287: DeprecationWarning: `should_run_async` will not call `transform_cell` automatically in the future. Please pass the result to `transformed_cell` argument and any exception that happen during thetransform in `preprocessing_exc_tuple` in IPython 7.17 and above.\n",
      "  and should_run_async(code)\n"
     ]
    }
   ],
   "source": [
    "stop_words = stopwords.words('english')\n",
    "stop_words.extend(['from', 'subject', 're', 'edu', 'use', ])"
   ]
  },
  {
   "cell_type": "code",
   "execution_count": 20,
   "metadata": {},
   "outputs": [
    {
     "name": "stderr",
     "output_type": "stream",
     "text": [
      "/Users/tadatta/opt/anaconda3/lib/python3.8/site-packages/ipykernel/ipkernel.py:287: DeprecationWarning: `should_run_async` will not call `transform_cell` automatically in the future. Please pass the result to `transformed_cell` argument and any exception that happen during thetransform in `preprocessing_exc_tuple` in IPython 7.17 and above.\n",
      "  and should_run_async(code)\n"
     ]
    }
   ],
   "source": [
    "def sent_to_words(sentences):\n",
    "    for sentence in sentences:\n",
    "        yield(gensim.utils.simple_preprocess(str(sentence), deacc=True))  # deacc=True removes punctuations"
   ]
  },
  {
   "cell_type": "code",
   "execution_count": 21,
   "metadata": {},
   "outputs": [
    {
     "name": "stderr",
     "output_type": "stream",
     "text": [
      "/Users/tadatta/opt/anaconda3/lib/python3.8/site-packages/ipykernel/ipkernel.py:287: DeprecationWarning: `should_run_async` will not call `transform_cell` automatically in the future. Please pass the result to `transformed_cell` argument and any exception that happen during thetransform in `preprocessing_exc_tuple` in IPython 7.17 and above.\n",
      "  and should_run_async(code)\n"
     ]
    }
   ],
   "source": [
    "docs = list(sent_to_words(docs))"
   ]
  },
  {
   "cell_type": "code",
   "execution_count": 22,
   "metadata": {},
   "outputs": [
    {
     "name": "stdout",
     "output_type": "stream",
     "text": [
      "[['yes', 'am', 'happy', 'till', 'the', 'time', 'it', 'doesn', 'cost', 'the', 'talent', 'men', 'workforce', 'women', 'shouldn', 'be', 'given', 'preference', 'just', 'because', 'they', 'are', 'women', 'but', 'competency', 'what', 'they', 'have', 'but', 'being', 'human', 'we', 'can', 'stop', 'being', 'biased', 'and', 'fear', 'this', 'biasness']]\n"
     ]
    },
    {
     "name": "stderr",
     "output_type": "stream",
     "text": [
      "/Users/tadatta/opt/anaconda3/lib/python3.8/site-packages/ipykernel/ipkernel.py:287: DeprecationWarning: `should_run_async` will not call `transform_cell` automatically in the future. Please pass the result to `transformed_cell` argument and any exception that happen during thetransform in `preprocessing_exc_tuple` in IPython 7.17 and above.\n",
      "  and should_run_async(code)\n"
     ]
    }
   ],
   "source": [
    "print(docs[:1])"
   ]
  },
  {
   "cell_type": "code",
   "execution_count": 23,
   "metadata": {},
   "outputs": [
    {
     "name": "stderr",
     "output_type": "stream",
     "text": [
      "/Users/tadatta/opt/anaconda3/lib/python3.8/site-packages/ipykernel/ipkernel.py:287: DeprecationWarning: `should_run_async` will not call `transform_cell` automatically in the future. Please pass the result to `transformed_cell` argument and any exception that happen during thetransform in `preprocessing_exc_tuple` in IPython 7.17 and above.\n",
      "  and should_run_async(code)\n"
     ]
    }
   ],
   "source": [
    "bigram = gensim.models.Phrases(docs, min_count=5, threshold=100) # higher threshold fewer phrases.\n",
    "trigram = gensim.models.Phrases(bigram[docs], threshold=100)  "
   ]
  },
  {
   "cell_type": "code",
   "execution_count": 22,
   "metadata": {},
   "outputs": [
    {
     "name": "stderr",
     "output_type": "stream",
     "text": [
      "/Users/tadatta/opt/anaconda3/lib/python3.8/site-packages/ipykernel/ipkernel.py:287: DeprecationWarning: `should_run_async` will not call `transform_cell` automatically in the future. Please pass the result to `transformed_cell` argument and any exception that happen during thetransform in `preprocessing_exc_tuple` in IPython 7.17 and above.\n",
      "  and should_run_async(code)\n"
     ]
    }
   ],
   "source": [
    "bigram_mod = gensim.models.phrases.Phraser(bigram)\n",
    "trigram_mod = gensim.models.phrases.Phraser(trigram)"
   ]
  },
  {
   "cell_type": "code",
   "execution_count": 23,
   "metadata": {},
   "outputs": [
    {
     "name": "stdout",
     "output_type": "stream",
     "text": [
      "['yes', 'am', 'happy', 'till', 'the', 'time', 'it', 'doesn', 'cost', 'the', 'talent', 'men', 'workforce', 'women', 'shouldn', 'be', 'given', 'preference', 'just', 'because', 'they', 'are', 'women', 'but', 'competency', 'what', 'they', 'have', 'but', 'being', 'human', 'we', 'can', 'stop', 'being', 'biased', 'and', 'fear', 'this', 'biasness']\n"
     ]
    },
    {
     "name": "stderr",
     "output_type": "stream",
     "text": [
      "/Users/tadatta/opt/anaconda3/lib/python3.8/site-packages/ipykernel/ipkernel.py:287: DeprecationWarning: `should_run_async` will not call `transform_cell` automatically in the future. Please pass the result to `transformed_cell` argument and any exception that happen during thetransform in `preprocessing_exc_tuple` in IPython 7.17 and above.\n",
      "  and should_run_async(code)\n"
     ]
    }
   ],
   "source": [
    "print(trigram_mod[bigram_mod[docs[0]]])"
   ]
  },
  {
   "cell_type": "code",
   "execution_count": 24,
   "metadata": {},
   "outputs": [
    {
     "name": "stderr",
     "output_type": "stream",
     "text": [
      "/Users/tadatta/opt/anaconda3/lib/python3.8/site-packages/ipykernel/ipkernel.py:287: DeprecationWarning: `should_run_async` will not call `transform_cell` automatically in the future. Please pass the result to `transformed_cell` argument and any exception that happen during thetransform in `preprocessing_exc_tuple` in IPython 7.17 and above.\n",
      "  and should_run_async(code)\n"
     ]
    }
   ],
   "source": [
    "# Define functions for stopwords, bigrams, trigrams and lemmatization\n",
    "def remove_stopwords(texts):\n",
    "    return [[word for word in simple_preprocess(str(doc)) if word not in stop_words] for doc in texts]"
   ]
  },
  {
   "cell_type": "code",
   "execution_count": 25,
   "metadata": {},
   "outputs": [
    {
     "name": "stderr",
     "output_type": "stream",
     "text": [
      "/Users/tadatta/opt/anaconda3/lib/python3.8/site-packages/ipykernel/ipkernel.py:287: DeprecationWarning: `should_run_async` will not call `transform_cell` automatically in the future. Please pass the result to `transformed_cell` argument and any exception that happen during thetransform in `preprocessing_exc_tuple` in IPython 7.17 and above.\n",
      "  and should_run_async(code)\n"
     ]
    }
   ],
   "source": [
    "def make_bigrams(texts):\n",
    "    return [bigram_mod[doc] for doc in texts]\n",
    "\n",
    "def make_trigrams(texts):\n",
    "    return [trigram_mod[bigram_mod[doc]] for doc in texts]\n",
    "\n",
    "def lemmatization(texts, allowed_postags=['NOUN', 'ADJ', 'VERB', 'ADV']):\n",
    "    \"\"\"https://spacy.io/api/annotation\"\"\"\n",
    "    texts_out = []\n",
    "    for sent in texts:\n",
    "        doc = nlp(\" \".join(sent)) \n",
    "        texts_out.append([token.lemma_ for token in doc if token.pos_ in allowed_postags])\n",
    "    return texts_out"
   ]
  },
  {
   "cell_type": "code",
   "execution_count": 26,
   "metadata": {},
   "outputs": [
    {
     "name": "stderr",
     "output_type": "stream",
     "text": [
      "/Users/tadatta/opt/anaconda3/lib/python3.8/site-packages/ipykernel/ipkernel.py:287: DeprecationWarning: `should_run_async` will not call `transform_cell` automatically in the future. Please pass the result to `transformed_cell` argument and any exception that happen during thetransform in `preprocessing_exc_tuple` in IPython 7.17 and above.\n",
      "  and should_run_async(code)\n"
     ]
    },
    {
     "name": "stdout",
     "output_type": "stream",
     "text": [
      "[['happy', 'time', 'cost', 'talent', 'man', 'workforce', 'woman', 'give', 'preference', 'woman', 'competency', 'human', 'stop', 'bias', 'fear', 'biasness']]\n"
     ]
    }
   ],
   "source": [
    "# Remove Stop Words\n",
    "docs_nostops = remove_stopwords(docs)\n",
    "\n",
    "# Form Bigrams\n",
    "docs_bigrams = make_bigrams(docs_nostops)\n",
    "\n",
    "# Initialize spacy 'en' model, keeping only tagger component (for efficiency)\n",
    "# python3 -m spacy download en\n",
    "nlp = spacy.load(\"en_core_web_sm\")\n",
    "\n",
    "# Do lemmatization keeping only noun, adj, vb, adv\n",
    "data_lemmatized = lemmatization(docs_bigrams, allowed_postags=['NOUN', 'ADJ', 'VERB', 'ADV'])\n",
    "\n",
    "print(data_lemmatized[:1])"
   ]
  },
  {
   "cell_type": "code",
   "execution_count": 27,
   "metadata": {},
   "outputs": [
    {
     "name": "stdout",
     "output_type": "stream",
     "text": [
      "[[(0, 1), (1, 1), (2, 1), (3, 1), (4, 1), (5, 1), (6, 1), (7, 1), (8, 1), (9, 1), (10, 1), (11, 1), (12, 1), (13, 2), (14, 1)]]\n"
     ]
    },
    {
     "name": "stderr",
     "output_type": "stream",
     "text": [
      "/Users/tadatta/opt/anaconda3/lib/python3.8/site-packages/ipykernel/ipkernel.py:287: DeprecationWarning: `should_run_async` will not call `transform_cell` automatically in the future. Please pass the result to `transformed_cell` argument and any exception that happen during thetransform in `preprocessing_exc_tuple` in IPython 7.17 and above.\n",
      "  and should_run_async(code)\n"
     ]
    }
   ],
   "source": [
    "# Create Dictionary\n",
    "id2word = corpora.Dictionary(data_lemmatized)\n",
    "\n",
    "# Create Corpus\n",
    "texts = data_lemmatized\n",
    "\n",
    "# Term Document Frequency\n",
    "corpus = [id2word.doc2bow(text) for text in texts]\n",
    "\n",
    "# View\n",
    "print(corpus[:1])"
   ]
  },
  {
   "cell_type": "code",
   "execution_count": 28,
   "metadata": {},
   "outputs": [
    {
     "name": "stderr",
     "output_type": "stream",
     "text": [
      "/Users/tadatta/opt/anaconda3/lib/python3.8/site-packages/ipykernel/ipkernel.py:287: DeprecationWarning: `should_run_async` will not call `transform_cell` automatically in the future. Please pass the result to `transformed_cell` argument and any exception that happen during thetransform in `preprocessing_exc_tuple` in IPython 7.17 and above.\n",
      "  and should_run_async(code)\n"
     ]
    },
    {
     "data": {
      "text/plain": [
       "[[('bias', 1),\n",
       "  ('biasness', 1),\n",
       "  ('competency', 1),\n",
       "  ('cost', 1),\n",
       "  ('fear', 1),\n",
       "  ('give', 1),\n",
       "  ('happy', 1),\n",
       "  ('human', 1),\n",
       "  ('man', 1),\n",
       "  ('preference', 1),\n",
       "  ('stop', 1),\n",
       "  ('talent', 1),\n",
       "  ('time', 1),\n",
       "  ('woman', 2),\n",
       "  ('workforce', 1)]]"
      ]
     },
     "execution_count": 28,
     "metadata": {},
     "output_type": "execute_result"
    }
   ],
   "source": [
    "# Human readable format of corpus (term-frequency)\n",
    "[[(id2word[id], freq) for id, freq in cp] for cp in corpus[:1]]"
   ]
  },
  {
   "cell_type": "code",
   "execution_count": 29,
   "metadata": {},
   "outputs": [
    {
     "name": "stderr",
     "output_type": "stream",
     "text": [
      "/Users/tadatta/opt/anaconda3/lib/python3.8/site-packages/ipykernel/ipkernel.py:287: DeprecationWarning: `should_run_async` will not call `transform_cell` automatically in the future. Please pass the result to `transformed_cell` argument and any exception that happen during thetransform in `preprocessing_exc_tuple` in IPython 7.17 and above.\n",
      "  and should_run_async(code)\n"
     ]
    }
   ],
   "source": [
    "# Build LDA model\n",
    "lda_model = gensim.models.ldamodel.LdaModel(corpus=corpus,\n",
    "                                           id2word=id2word,\n",
    "                                           num_topics=20, \n",
    "                                           random_state=100,\n",
    "                                           update_every=1,\n",
    "                                           chunksize=100,\n",
    "                                           passes=10,\n",
    "                                           alpha='auto',\n",
    "                                           per_word_topics=True)"
   ]
  },
  {
   "cell_type": "code",
   "execution_count": 30,
   "metadata": {},
   "outputs": [
    {
     "name": "stdout",
     "output_type": "stream",
     "text": [
      "[(0,\n",
      "  '0.096*\"get\" + 0.056*\"month\" + 0.053*\"offer\" + 0.052*\"also\" + 0.048*\"skill\" '\n",
      "  '+ 0.035*\"really\" + 0.032*\"due\" + 0.020*\"stay\" + 0.018*\"experience\" + '\n",
      "  '0.016*\"increment\"'),\n",
      " (1,\n",
      "  '0.223*\"agree\" + 0.048*\"consider\" + 0.031*\"individual\" + 0.029*\"give\" + '\n",
      "  '0.014*\"mo\" + 0.014*\"resource\" + 0.014*\"respect\" + 0.014*\"concern\" + '\n",
      "  '0.001*\"suggestion\" + 0.001*\"improve\"'),\n",
      " (2,\n",
      "  '0.191*\"team\" + 0.068*\"definitely\" + 0.029*\"right\" + 0.015*\"suppotive\" + '\n",
      "  '0.001*\"unethical\" + 0.001*\"report\" + 0.001*\"behavior\" + 0.001*\"physical\" + '\n",
      "  '0.001*\"impact\" + 0.001*\"location\"'),\n",
      " (3,\n",
      "  '0.223*\"engagement\" + 0.165*\"current\" + 0.101*\"thing\" + 0.055*\"way\" + '\n",
      "  '0.042*\"contribution\" + 0.021*\"deliver\" + 0.013*\"environment\" + '\n",
      "  '0.013*\"never\" + 0.011*\"reward\" + 0.011*\"ethical\"'),\n",
      " (4,\n",
      "  '0.132*\"manager\" + 0.123*\"previous\" + 0.118*\"learn\" + 0.077*\"support\" + '\n",
      "  '0.065*\"always\" + 0.027*\"change\" + 0.019*\"positive\" + 0.014*\"monthly\" + '\n",
      "  '0.014*\"require\" + 0.014*\"answer\"'),\n",
      " (5,\n",
      "  '0.326*\"work\" + 0.058*\"new\" + 0.048*\"great\" + 0.047*\"life\" + 0.045*\"project\" '\n",
      "  '+ 0.040*\"technology\" + 0.035*\"balance\" + 0.028*\"team\" + 0.018*\"place\" + '\n",
      "  '0.016*\"create\"'),\n",
      " (6,\n",
      "  '0.261*\"sure\" + 0.037*\"gender\" + 0.030*\"easy\" + 0.013*\"way\" + 0.013*\"s\" + '\n",
      "  '0.013*\"guess\" + 0.013*\"believe\" + 0.013*\"factor\" + 0.001*\"communication\" + '\n",
      "  '0.001*\"call\"'),\n",
      " (7,\n",
      "  '0.047*\"put\" + 0.002*\"load\" + 0.002*\"balance\" + 0.002*\"life\" + 0.002*\"work\" '\n",
      "  '+ 0.002*\"organization\" + 0.002*\"good\" + 0.002*\"hike\" + 0.002*\"salary\" + '\n",
      "  '0.002*\"get\"'),\n",
      " (8,\n",
      "  '0.036*\"see\" + 0.036*\"partiality\" + 0.019*\"missbehave\" + 0.019*\"tenure\" + '\n",
      "  '0.019*\"management\" + 0.019*\"year\" + 0.002*\"goal\" + 0.002*\"basic\" + '\n",
      "  '0.002*\"home\" + 0.002*\"changing\"'),\n",
      " (9,\n",
      "  '0.130*\"project\" + 0.040*\"depend\" + 0.017*\"vary\" + 0.017*\"member\" + '\n",
      "  '0.002*\"barrier\" + 0.002*\"f\" + 0.002*\"issue\" + 0.002*\"past\" + 0.002*\"iusse\" '\n",
      "  '+ 0.002*\"material\"'),\n",
      " (10,\n",
      "  '0.089*\"capgemini\" + 0.067*\"true\" + 0.063*\"much\" + 0.061*\"feel\" + '\n",
      "  '0.060*\"company\" + 0.048*\"salary\" + 0.046*\"year\" + 0.041*\"term\" + '\n",
      "  '0.023*\"see\" + 0.023*\"market\"'),\n",
      " (11,\n",
      "  '0.167*\"well\" + 0.094*\"job\" + 0.061*\"future\" + 0.061*\"covid\" + '\n",
      "  '0.027*\"people\" + 0.019*\"hope\" + 0.017*\"opportunity\" + 0.016*\"background\" + '\n",
      "  '0.016*\"know\" + 0.010*\"see\"'),\n",
      " (12,\n",
      "  '0.155*\"pay\" + 0.045*\"help\" + 0.045*\"switch\" + 0.027*\"nature\" + '\n",
      "  '0.014*\"boldness\" + 0.014*\"honesty\" + 0.014*\"trust\" + 0.014*\"lac\" + '\n",
      "  '0.014*\"rs\" + 0.014*\"spending\"'),\n",
      " (13,\n",
      "  '0.057*\"connect\" + 0.057*\"role\" + 0.055*\"organization\" + 0.046*\"base\" + '\n",
      "  '0.037*\"annual\" + 0.037*\"benefit\" + 0.037*\"go\" + 0.031*\"challenge\" + '\n",
      "  '0.031*\"get\" + 0.019*\"hike\"'),\n",
      " (14,\n",
      "  '0.118*\"leadership\" + 0.058*\"day\" + 0.053*\"people\" + 0.016*\"surround\" + '\n",
      "  '0.016*\"passionate\" + 0.001*\"adore\" + 0.001*\"opinion\" + 0.001*\"even\" + '\n",
      "  '0.001*\"desk\" + 0.001*\"activity\"'),\n",
      " (15,\n",
      "  '0.265*\"good\" + 0.100*\"reward\" + 0.030*\"respond\" + 0.001*\"come\" + '\n",
      "  '0.001*\"risk\" + 0.001*\"office\" + 0.001*\"mail\" + 0.001*\"advantage\" + '\n",
      "  '0.001*\"do\" + 0.001*\"even\"'),\n",
      " (16,\n",
      "  '0.118*\"take\" + 0.070*\"interact\" + 0.067*\"recognize\" + 0.059*\"many\" + '\n",
      "  '0.059*\"complete\" + 0.050*\"daily\" + 0.029*\"meeting\" + 0.023*\"diversity\" + '\n",
      "  '0.023*\"leader\" + 0.019*\"number\"'),\n",
      " (17,\n",
      "  '0.155*\"senior\" + 0.140*\"always\" + 0.085*\"give\" + 0.047*\"make\" + '\n",
      "  '0.031*\"enough\" + 0.022*\"fair\" + 0.022*\"care\" + 0.020*\"opportunity\" + '\n",
      "  '0.018*\"equal\" + 0.010*\"recommend\"'),\n",
      " (18,\n",
      "  '0.128*\"time\" + 0.102*\"lot\" + 0.072*\"requirement\" + 0.048*\"clear\" + '\n",
      "  '0.041*\"happen\" + 0.035*\"client\" + 0.025*\"provide\" + 0.011*\"man\" + '\n",
      "  '0.010*\"number\" + 0.010*\"mention\"'),\n",
      " (19,\n",
      "  '0.062*\"compensation\" + 0.019*\"think\" + 0.019*\"lacking\" + 0.019*\"provision\" '\n",
      "  '+ 0.002*\"niche\" + 0.002*\"tech\" + 0.002*\"late\" + 0.002*\"easily\" + '\n",
      "  '0.002*\"example\" + 0.002*\"problem\"')]\n"
     ]
    },
    {
     "name": "stderr",
     "output_type": "stream",
     "text": [
      "/Users/tadatta/opt/anaconda3/lib/python3.8/site-packages/ipykernel/ipkernel.py:287: DeprecationWarning: `should_run_async` will not call `transform_cell` automatically in the future. Please pass the result to `transformed_cell` argument and any exception that happen during thetransform in `preprocessing_exc_tuple` in IPython 7.17 and above.\n",
      "  and should_run_async(code)\n"
     ]
    }
   ],
   "source": [
    "# Print the Keyword in the 10 topics\n",
    "pprint(lda_model.print_topics())\n",
    "doc_lda = lda_model[corpus]"
   ]
  },
  {
   "cell_type": "code",
   "execution_count": 31,
   "metadata": {},
   "outputs": [
    {
     "name": "stderr",
     "output_type": "stream",
     "text": [
      "/Users/tadatta/opt/anaconda3/lib/python3.8/site-packages/ipykernel/ipkernel.py:287: DeprecationWarning: `should_run_async` will not call `transform_cell` automatically in the future. Please pass the result to `transformed_cell` argument and any exception that happen during thetransform in `preprocessing_exc_tuple` in IPython 7.17 and above.\n",
      "  and should_run_async(code)\n"
     ]
    },
    {
     "name": "stdout",
     "output_type": "stream",
     "text": [
      "\n",
      "Perplexity:  -11.10505175644605\n",
      "\n",
      "Coherence Score:  0.4612978322191615\n"
     ]
    }
   ],
   "source": [
    "# Compute Perplexity\n",
    "print('\\nPerplexity: ', lda_model.log_perplexity(corpus))  # a measure of how good the model is. lower the better.\n",
    "\n",
    "# Compute Coherence Score\n",
    "coherence_model_lda = CoherenceModel(model=lda_model, texts=data_lemmatized, dictionary=id2word, coherence='c_v')\n",
    "coherence_lda = coherence_model_lda.get_coherence()\n",
    "print('\\nCoherence Score: ', coherence_lda)"
   ]
  },
  {
   "cell_type": "code",
   "execution_count": 32,
   "metadata": {},
   "outputs": [
    {
     "name": "stderr",
     "output_type": "stream",
     "text": [
      "/Users/tadatta/opt/anaconda3/lib/python3.8/site-packages/ipykernel/ipkernel.py:287: DeprecationWarning: `should_run_async` will not call `transform_cell` automatically in the future. Please pass the result to `transformed_cell` argument and any exception that happen during thetransform in `preprocessing_exc_tuple` in IPython 7.17 and above.\n",
      "  and should_run_async(code)\n"
     ]
    }
   ],
   "source": [
    "pyLDAvis.enable_notebook()\n",
    "vis = pyLDAvis.gensim_models.prepare(lda_model, corpus, id2word)\n",
    "vis\n",
    "pyLDAvis.save_html(vis, 'CDP.html')"
   ]
  },
  {
   "cell_type": "code",
   "execution_count": null,
   "metadata": {},
   "outputs": [],
   "source": []
  },
  {
   "cell_type": "code",
   "execution_count": null,
   "metadata": {},
   "outputs": [],
   "source": []
  }
 ],
 "metadata": {
  "kernelspec": {
   "display_name": "Python 3",
   "language": "python",
   "name": "python3"
  },
  "language_info": {
   "codemirror_mode": {
    "name": "ipython",
    "version": 3
   },
   "file_extension": ".py",
   "mimetype": "text/x-python",
   "name": "python",
   "nbconvert_exporter": "python",
   "pygments_lexer": "ipython3",
   "version": "3.8.5"
  }
 },
 "nbformat": 4,
 "nbformat_minor": 4
}
